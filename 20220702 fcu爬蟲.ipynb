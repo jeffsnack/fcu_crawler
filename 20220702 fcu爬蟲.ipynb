{
 "cells": [
  {
   "cell_type": "code",
   "execution_count": 53,
   "metadata": {},
   "outputs": [
    {
     "name": "stdout",
     "output_type": "stream",
     "text": [
      "Collecting webdriver_manager\n",
      "  Downloading webdriver_manager-3.8.3-py2.py3-none-any.whl (26 kB)\n",
      "Requirement already satisfied: requests in c:\\users\\user\\anaconda3\\lib\\site-packages (from webdriver_manager) (2.26.0)\n",
      "Requirement already satisfied: tqdm in c:\\users\\user\\anaconda3\\lib\\site-packages (from webdriver_manager) (4.50.2)\n",
      "Requirement already satisfied: python-dotenv in c:\\users\\user\\anaconda3\\lib\\site-packages (from webdriver_manager) (0.19.0)\n",
      "Requirement already satisfied: certifi>=2017.4.17 in c:\\users\\user\\anaconda3\\lib\\site-packages (from requests->webdriver_manager) (2021.5.30)\n",
      "Requirement already satisfied: urllib3<1.27,>=1.21.1 in c:\\users\\user\\anaconda3\\lib\\site-packages (from requests->webdriver_manager) (1.26.8)\n",
      "Requirement already satisfied: charset-normalizer~=2.0.0 in c:\\users\\user\\anaconda3\\lib\\site-packages (from requests->webdriver_manager) (2.0.7)\n",
      "Requirement already satisfied: idna<4,>=2.5 in c:\\users\\user\\anaconda3\\lib\\site-packages (from requests->webdriver_manager) (2.10)\n",
      "Installing collected packages: webdriver_manager\n",
      "Successfully installed webdriver_manager-3.8.3\n",
      "Note: you may need to restart the kernel to use updated packages.\n"
     ]
    },
    {
     "name": "stderr",
     "output_type": "stream",
     "text": [
      "WARNING: You are using pip version 22.0.3; however, version 22.2.2 is available.\n",
      "You should consider upgrading via the 'C:\\Users\\user\\Anaconda3\\python.exe -m pip install --upgrade pip' command.\n"
     ]
    }
   ],
   "source": [
    "pip install webdriver_manager"
   ]
  },
  {
   "cell_type": "code",
   "execution_count": 56,
   "metadata": {},
   "outputs": [
    {
     "name": "stderr",
     "output_type": "stream",
     "text": [
      "[WDM] - Downloading:  98%|██████████████████████████████████████████████████████▉ | 6.09M/6.21M [00:01<00:00, 4.80MB/s]C:\\Users\\user\\Anaconda3\\lib\\site-packages\\ipykernel_launcher.py:11: DeprecationWarning: executable_path has been deprecated, please pass in a Service object\n",
      "  # This is added back by InteractiveShellApp.init_path()\n",
      "C:\\Users\\user\\Anaconda3\\lib\\site-packages\\ipykernel_launcher.py:13: DeprecationWarning: find_element_by_* commands are deprecated. Please use find_element() instead\n",
      "  del sys.path[0]\n",
      "C:\\Users\\user\\Anaconda3\\lib\\site-packages\\ipykernel_launcher.py:15: DeprecationWarning: find_element_by_* commands are deprecated. Please use find_element() instead\n",
      "  from ipykernel import kernelapp as app\n",
      "C:\\Users\\user\\Anaconda3\\lib\\site-packages\\ipykernel_launcher.py:17: DeprecationWarning: find_element_by_* commands are deprecated. Please use find_element() instead\n",
      "[WDM] - Downloading: 100%|████████████████████████████████████████████████████████| 6.21M/6.21M [00:20<00:00, 4.80MB/s]C:\\Users\\user\\Anaconda3\\lib\\site-packages\\ipykernel_launcher.py:29: DeprecationWarning: find_element_by_* commands are deprecated. Please use find_element() instead\n",
      "C:\\Users\\user\\Anaconda3\\lib\\site-packages\\ipykernel_launcher.py:30: DeprecationWarning: find_element_by_* commands are deprecated. Please use find_element() instead\n",
      "C:\\Users\\user\\Anaconda3\\lib\\site-packages\\ipykernel_launcher.py:33: DeprecationWarning: find_element_by_* commands are deprecated. Please use find_element() instead\n",
      "C:\\Users\\user\\Anaconda3\\lib\\site-packages\\ipykernel_launcher.py:36: DeprecationWarning: find_element_by_* commands are deprecated. Please use find_element() instead\n",
      "C:\\Users\\user\\Anaconda3\\lib\\site-packages\\ipykernel_launcher.py:39: DeprecationWarning: find_element_by_* commands are deprecated. Please use find_element() instead\n"
     ]
    },
    {
     "name": "stdout",
     "output_type": "stream",
     "text": [
      "today is 08/13\n"
     ]
    }
   ],
   "source": [
    "import requests\n",
    "from bs4 import BeautifulSoup\n",
    "from selenium import webdriver\n",
    "import time\n",
    "from webdriver_manager.chrome import ChromeDriverManager\n",
    "list1 = []\n",
    "url = \"https://myfcu.fcu.edu.tw/main/infomyfculogin.aspx\"\n",
    "\n",
    "\n",
    "#driverPath =r'C:\\Users\\user\\Downloads\\chromedriver_win32 (4)\\chromedriver.exe'\n",
    "chrome = webdriver.Chrome(ChromeDriverManager().install())\n",
    "chrome.get(url)\n",
    "username = chrome.find_element_by_id('txtUserName')\n",
    "username.send_keys('')#輸入my_fcu帳號\n",
    "password = chrome.find_element_by_id('txtPassword')\n",
    "password.send_keys('')#輸入my_fcu密碼\n",
    "ok_btn = chrome.find_element_by_id('OKButton')\n",
    "ok_btn.click()\n",
    "\n",
    "time.sleep(3)\n",
    "\n",
    "\n",
    "\n",
    "chrome.get('https://myfcu.fcu.edu.tw/main/webClientMyFcuMain.aspx#/prog/SP3300016')\n",
    "time.sleep(3)\n",
    "chrome.switch_to.frame('main') #先進入iframe,才能定位到本頁的元素\n",
    "time.sleep(3)\n",
    "\n",
    "if chrome.find_element_by_xpath('/html/body/div[1]/div/div[1]/h4').text != 'PASS':\n",
    "    close = chrome.find_element_by_xpath('/html/body/div[1]/div/div[3]/button')\n",
    "    close.click()\n",
    "    time.sleep(3)\n",
    "    temp = chrome.find_element_by_xpath('//*[@id=\"form1\"]/div[3]/div[3]/ng-form[2]/div/div/table/tbody/tr[3]/td/div/label[9]/input')\n",
    "    temp.click()\n",
    "    time.sleep(3)\n",
    "    save = chrome.find_element_by_xpath('//*[@id=\"form1\"]/div[3]/div[3]/ng-form[2]/div/div/table/tbody/tr[1]/th/div/input')\n",
    "    save.click()\n",
    "    time.sleep(3)\n",
    "    date = chrome.find_element_by_xpath('/html/body/div[1]/div/div[2]/div/div/div/div/div[1]').text\n",
    "    time.sleep(3)\n",
    "    date1 = date[0:2] #月份\n",
    "    date2 = date[3:5] #日期\n",
    "    date3 = date1+date2\n",
    "    save_url = r'C:\\Users\\user\\Desktop\\yellow'\n",
    "    file_name = f'\\\\fcu_{date3}.png'\n",
    "    chrome.get_screenshot_as_file(save_url+file_name)\n",
    "    print(f'today is {date}')\n",
    "    chrome.close()\n",
    "else:\n",
    "    chrome.find_element_by_xpath('/html/body/div[1]/div/div[1]')\n",
    "    date = chrome.find_element_by_xpath('/html/body/div[1]/div/div[2]/div/div/div/div/div[1]').text\n",
    "    print(f'today is {date}')\n",
    "    time.sleep(3)\n",
    "    date1 = date[0:2] #月份\n",
    "    date2 = date[3:5] #日期\n",
    "    date3 = date1+date2\n",
    "    save_url = r'C:\\Users\\user\\Desktop\\yellow'\n",
    "    file_name = f'\\\\fcu_{date3}.png'\n",
    "    chrome.get_screenshot_as_file(save_url+file_name)\n",
    "    close = chrome.find_element_by_xpath('/html/body/div[1]/div/div[3]/button')\n",
    "    close.click()\n",
    "    time.sleep(3)\n",
    "    chrome.close()\n",
    "    \n",
    "\n",
    "\n"
   ]
  },
  {
   "cell_type": "code",
   "execution_count": 57,
   "metadata": {},
   "outputs": [],
   "source": [
    "from email.mime.multipart import MIMEMultipart\n",
    "from email.mime.text import MIMEText\n",
    "from email.mime.image import MIMEImage\n",
    "from pathlib import Path\n",
    "\n",
    "content = MIMEMultipart()  #建立MIMEMultipart物件\n",
    "content[\"subject\"] = date3  #郵件標題\n",
    "content[\"from\"] = \"\"  #寄件者\n",
    "content[\"to\"] = \"\" #收件者\n",
    "content.attach(MIMEText(\"Demo python send email\"))  #郵件內容\n",
    "content.attach(MIMEImage(Path(save_url+file_name).read_bytes()))"
   ]
  },
  {
   "cell_type": "code",
   "execution_count": 58,
   "metadata": {},
   "outputs": [
    {
     "name": "stdout",
     "output_type": "stream",
     "text": [
      "Complete!\n"
     ]
    }
   ],
   "source": [
    "import smtplib\n",
    "\n",
    "with smtplib.SMTP(host=\"smtp.gmail.com\",port=\"587\") as smtp:\n",
    "    try:\n",
    "        smtp.ehlo() #驗證SMTP伺服器\n",
    "        smtp.starttls() #建立加密傳輸\n",
    "        smtp.login(\"jason0543@mail.fcu.edu.tw\",\"wiylqkedddlhcwev\")\n",
    "        smtp.send_message(content)\n",
    "        print(\"Complete!\")\n",
    "    except Exception as e:\n",
    "        print(\"Error message: \",e)"
   ]
  },
  {
   "cell_type": "code",
   "execution_count": null,
   "metadata": {},
   "outputs": [],
   "source": []
  }
 ],
 "metadata": {
  "kernelspec": {
   "display_name": "Python 3",
   "language": "python",
   "name": "python3"
  },
  "language_info": {
   "codemirror_mode": {
    "name": "ipython",
    "version": 3
   },
   "file_extension": ".py",
   "mimetype": "text/x-python",
   "name": "python",
   "nbconvert_exporter": "python",
   "pygments_lexer": "ipython3",
   "version": "3.7.3"
  }
 },
 "nbformat": 4,
 "nbformat_minor": 4
}
